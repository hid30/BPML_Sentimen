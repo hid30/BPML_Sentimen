{
  "nbformat": 4,
  "nbformat_minor": 0,
  "metadata": {
    "colab": {
      "provenance": []
    },
    "kernelspec": {
      "name": "python3",
      "display_name": "Python 3"
    },
    "language_info": {
      "name": "python"
    }
  },
  "cells": [
    {
      "cell_type": "code",
      "execution_count": 4,
      "metadata": {
        "colab": {
          "base_uri": "https://localhost:8080/"
        },
        "id": "S8RMovzU0u8m",
        "outputId": "453ecd71-3af3-4dde-b257-d0fef0ccb764"
      },
      "outputs": [
        {
          "output_type": "stream",
          "name": "stdout",
          "text": [
            "Kolom yang tersedia: Index(['review', 'rating'], dtype='object')\n",
            "\n",
            "🎯 Akurasi Testing: 98.5 %\n",
            "\n",
            "📊 Classification Report:\n",
            "               precision    recall  f1-score   support\n",
            "\n",
            "     negatif       0.98      1.00      0.99       211\n",
            "      netral       1.00      0.82      0.90        22\n",
            "     positif       0.99      0.99      0.99       367\n",
            "\n",
            "    accuracy                           0.98       600\n",
            "   macro avg       0.99      0.93      0.96       600\n",
            "weighted avg       0.99      0.98      0.98       600\n",
            "\n",
            "\n",
            "🧠 Inference Contoh:\n",
            "Kalimat: Aplikasi ini sangat jelek dan sering error\n",
            "Hasil Prediksi Sentimen: negatif\n"
          ]
        }
      ],
      "source": [
        "import pandas as pd\n",
        "import numpy as np\n",
        "import re\n",
        "import string\n",
        "from sklearn.model_selection import train_test_split\n",
        "from sklearn.feature_extraction.text import TfidfVectorizer\n",
        "from sklearn.naive_bayes import MultinomialNB\n",
        "from sklearn.metrics import accuracy_score, classification_report\n",
        "\n",
        "# Load dataset\n",
        "file_path = '/content/playstore_reviews.csv'\n",
        "df = pd.read_csv(file_path)\n",
        "\n",
        "# Cek nama kolom\n",
        "print(\"Kolom yang tersedia:\", df.columns)\n",
        "\n",
        "# Buat kolom 'sentiment' berdasarkan rating\n",
        "# Misalnya Rating 1-2 = Negatif, 3 = Netral, 4-5 = Positif\n",
        "def assign_sentiment(rating):\n",
        "    if rating <= 2:\n",
        "        return 'negatif'\n",
        "    elif rating == 3:\n",
        "        return 'netral'\n",
        "    else:\n",
        "        return 'positif'\n",
        "\n",
        "df['sentiment'] = df['rating'].apply(assign_sentiment)\n",
        "\n",
        "# Filter data untuk sentimen yang valid\n",
        "sentiments = ['positif', 'negatif', 'netral']\n",
        "df = df[df['sentiment'].isin(sentiments)]\n",
        "\n",
        "# Bersihkan data\n",
        "df = df.dropna(subset=['review'])\n",
        "\n",
        "# Preprocessing function\n",
        "def preprocess(text):\n",
        "    text = text.lower()\n",
        "    text = re.sub(r\"http\\S+\", \"\", text)\n",
        "    text = re.sub(r\"<.*?>\", \"\", text)\n",
        "    text = re.sub(f\"[{re.escape(string.punctuation)}]\", \"\", text)\n",
        "    text = re.sub(r\"\\d+\", \"\", text)\n",
        "    text = text.strip()\n",
        "    return text\n",
        "\n",
        "df['cleaned_text'] = df['review'].apply(preprocess)\n",
        "\n",
        "# TF-IDF Vectorization\n",
        "vectorizer = TfidfVectorizer(max_features=5000)\n",
        "X = vectorizer.fit_transform(df['cleaned_text'])\n",
        "y = df['sentiment']\n",
        "\n",
        "# Split data\n",
        "X_train, X_test, y_train, y_test = train_test_split(X, y, test_size=0.2, random_state=42)\n",
        "\n",
        "# Train model\n",
        "model = MultinomialNB()\n",
        "model.fit(X_train, y_train)\n",
        "\n",
        "# Predict\n",
        "y_pred = model.predict(X_test)\n",
        "accuracy = accuracy_score(y_test, y_pred)\n",
        "report = classification_report(y_test, y_pred)\n",
        "\n",
        "print(\"\\n🎯 Akurasi Testing:\", round(accuracy * 100, 2), \"%\")\n",
        "print(\"\\n📊 Classification Report:\\n\", report)\n",
        "\n",
        "# Inference\n",
        "contoh_kalimat = \"Aplikasi ini sangat jelek dan sering error\"\n",
        "contoh_clean = preprocess(contoh_kalimat)\n",
        "contoh_vector = vectorizer.transform([contoh_clean])\n",
        "prediksi = model.predict(contoh_vector)\n",
        "\n",
        "print(\"\\n🧠 Inference Contoh:\")\n",
        "print(\"Kalimat:\", contoh_kalimat)\n",
        "print(\"Hasil Prediksi Sentimen:\", prediksi[0])\n"
      ]
    }
  ]
}