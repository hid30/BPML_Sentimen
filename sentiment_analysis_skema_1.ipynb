{
  "nbformat": 4,
  "nbformat_minor": 0,
  "metadata": {
    "colab": {
      "provenance": []
    },
    "kernelspec": {
      "name": "python3",
      "display_name": "Python 3"
    },
    "language_info": {
      "name": "python"
    }
  },
  "cells": [
    {
      "cell_type": "code",
      "execution_count": 1,
      "metadata": {
        "colab": {
          "base_uri": "https://localhost:8080/"
        },
        "id": "6oFqFeL-zGFA",
        "outputId": "9803c7c6-e5a2-4a7c-b46c-3c80a87d8588"
      },
      "outputs": [
        {
          "output_type": "stream",
          "name": "stdout",
          "text": [
            "Requirement already satisfied: scikit-learn in /usr/local/lib/python3.11/dist-packages (1.6.1)\n",
            "Requirement already satisfied: numpy>=1.19.5 in /usr/local/lib/python3.11/dist-packages (from scikit-learn) (2.0.2)\n",
            "Requirement already satisfied: scipy>=1.6.0 in /usr/local/lib/python3.11/dist-packages (from scikit-learn) (1.14.1)\n",
            "Requirement already satisfied: joblib>=1.2.0 in /usr/local/lib/python3.11/dist-packages (from scikit-learn) (1.4.2)\n",
            "Requirement already satisfied: threadpoolctl>=3.1.0 in /usr/local/lib/python3.11/dist-packages (from scikit-learn) (3.6.0)\n",
            "Jumlah data: 3000\n",
            "Distribusi sentimen:\n",
            " sentiment\n",
            "positif    1845\n",
            "negatif    1020\n",
            "netral      135\n",
            "Name: count, dtype: int64\n",
            "\n",
            "🎯 Akurasi Testing: 98.33%\n",
            "\n",
            "📊 Classification Report:\n",
            "               precision    recall  f1-score   support\n",
            "\n",
            "     negatif       1.00      0.99      0.99       204\n",
            "      netral       1.00      0.74      0.85        27\n",
            "     positif       0.97      1.00      0.99       369\n",
            "\n",
            "    accuracy                           0.98       600\n",
            "   macro avg       0.99      0.91      0.94       600\n",
            "weighted avg       0.98      0.98      0.98       600\n",
            "\n",
            "\n",
            "🧠 Inference Contoh:\n",
            "Kalimat: 'Aplikasi ini sangat jelek dan sering error'\n",
            "Hasil Prediksi Sentimen: positif\n"
          ]
        }
      ],
      "source": [
        "# Install jika belum ada\n",
        "!pip install scikit-learn\n",
        "\n",
        "# Import library\n",
        "import pandas as pd\n",
        "from sklearn.model_selection import train_test_split\n",
        "from sklearn.ensemble import RandomForestClassifier\n",
        "from sklearn.feature_extraction.text import TfidfVectorizer\n",
        "from sklearn.preprocessing import LabelEncoder\n",
        "from sklearn.metrics import accuracy_score, classification_report\n",
        "\n",
        "# Load dataset\n",
        "df = pd.read_csv('playstore_reviews.csv')\n",
        "print(\"Jumlah data:\", len(df))\n",
        "df.head()\n",
        "\n",
        "# Label sentimen dari skor rating\n",
        "def label_sentiment(score):\n",
        "    if score >= 4:\n",
        "        return 'positif'\n",
        "    elif score == 3:\n",
        "        return 'netral'\n",
        "    else:\n",
        "        return 'negatif'\n",
        "\n",
        "df['sentiment'] = df['rating'].apply(label_sentiment)\n",
        "\n",
        "# Cek distribusi label\n",
        "print(\"Distribusi sentimen:\\n\", df['sentiment'].value_counts())\n",
        "\n",
        "# TF-IDF untuk ekstraksi fitur\n",
        "vectorizer = TfidfVectorizer(max_features=5000)\n",
        "X = vectorizer.fit_transform(df['review'].astype(str)).toarray()\n",
        "\n",
        "# Encode label ke angka\n",
        "le = LabelEncoder()\n",
        "y = le.fit_transform(df['sentiment'])  # 0=negatif, 1=netral, 2=positif\n",
        "\n",
        "# Split data (80% train, 20% test)\n",
        "X_train, X_test, y_train, y_test = train_test_split(\n",
        "    X, y, test_size=0.2, random_state=42, stratify=y\n",
        ")\n",
        "\n",
        "# Latih model Random Forest\n",
        "model = RandomForestClassifier(n_estimators=100, random_state=42)\n",
        "model.fit(X_train, y_train)\n",
        "\n",
        "# Evaluasi\n",
        "y_pred = model.predict(X_test)\n",
        "acc = accuracy_score(y_test, y_pred)\n",
        "print(f\"\\n🎯 Akurasi Testing: {acc * 100:.2f}%\")\n",
        "print(\"\\n📊 Classification Report:\\n\", classification_report(y_test, y_pred, target_names=le.classes_))\n",
        "\n",
        "# Inference (Prediksi Kalimat Baru)\n",
        "def prediksi_sentimen(kalimat):\n",
        "    vector = vectorizer.transform([kalimat]).toarray()\n",
        "    hasil = model.predict(vector)\n",
        "    return le.inverse_transform(hasil)[0]\n",
        "\n",
        "# Contoh prediksi\n",
        "contoh = \"Aplikasi ini sangat jelek dan sering error\"\n",
        "hasil = prediksi_sentimen(contoh)\n",
        "print(\"\\n🧠 Inference Contoh:\")\n",
        "print(f\"Kalimat: '{contoh}'\")\n",
        "print(f\"Hasil Prediksi Sentimen: {hasil}\")\n"
      ]
    }
  ]
}