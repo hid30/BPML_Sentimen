{
  "nbformat": 4,
  "nbformat_minor": 0,
  "metadata": {
    "colab": {
      "provenance": []
    },
    "kernelspec": {
      "name": "python3",
      "display_name": "Python 3"
    },
    "language_info": {
      "name": "python"
    }
  },
  "cells": [
    {
      "cell_type": "code",
      "execution_count": 1,
      "metadata": {
        "colab": {
          "base_uri": "https://localhost:8080/"
        },
        "id": "ALzB8b1Zx-Da",
        "outputId": "2ffe454d-8d0b-4433-f962-47e95966c148"
      },
      "outputs": [
        {
          "output_type": "stream",
          "name": "stdout",
          "text": [
            "Collecting google-play-scraper\n",
            "  Downloading google_play_scraper-1.2.7-py3-none-any.whl.metadata (50 kB)\n",
            "\u001b[?25l     \u001b[90m━━━━━━━━━━━━━━━━━━━━━━━━━━━━━━━━━━━━━━━━\u001b[0m \u001b[32m0.0/50.2 kB\u001b[0m \u001b[31m?\u001b[0m eta \u001b[36m-:--:--\u001b[0m\r\u001b[2K     \u001b[90m━━━━━━━━━━━━━━━━━━━━━━━━━━━━━━━━━━━━━━━━\u001b[0m \u001b[32m50.2/50.2 kB\u001b[0m \u001b[31m2.7 MB/s\u001b[0m eta \u001b[36m0:00:00\u001b[0m\n",
            "\u001b[?25hDownloading google_play_scraper-1.2.7-py3-none-any.whl (28 kB)\n",
            "Installing collected packages: google-play-scraper\n",
            "Successfully installed google-play-scraper-1.2.7\n",
            "✅ Berhasil simpan 3000 data ke playstore_reviews.csv\n"
          ]
        }
      ],
      "source": [
        "!pip install google-play-scraper\n",
        "\n",
        "from google_play_scraper import reviews\n",
        "import pandas as pd\n",
        "\n",
        "def scrape_reviews(app_id, total_reviews=3000):\n",
        "    all_reviews = []\n",
        "    count = 0\n",
        "\n",
        "    while len(all_reviews) < total_reviews:\n",
        "        review_batch, _ = reviews(\n",
        "            app_id,\n",
        "            lang='id',\n",
        "            country='id',\n",
        "            count=200,\n",
        "            filter_score_with=None\n",
        "        )\n",
        "        all_reviews.extend(review_batch)\n",
        "        count += 1\n",
        "        if count > 20:\n",
        "            break\n",
        "\n",
        "    df = pd.DataFrame(all_reviews)\n",
        "    df = df[['content', 'score']]\n",
        "    df.columns = ['review', 'rating']\n",
        "    df.to_csv('playstore_reviews.csv', index=False)\n",
        "    print(f\"✅ Berhasil simpan {len(df)} data ke playstore_reviews.csv\")\n",
        "\n",
        "# Jalankan scraping\n",
        "scrape_reviews('com.whatsapp', 3000)\n"
      ]
    }
  ]
}